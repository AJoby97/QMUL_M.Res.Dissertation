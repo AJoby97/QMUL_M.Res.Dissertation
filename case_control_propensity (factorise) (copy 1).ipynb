{
 "cells": [
  {
   "cell_type": "code",
   "execution_count": null,
   "metadata": {},
   "outputs": [],
   "source": [
    "import pandas as pd\n",
    "import os\n",
    "import re\n",
    "from datetime import datetime\n",
    "from dateutil import relativedelta\n",
    "import numpy as np\n",
    "import math\n",
    "import statsmodels.formula.api as smf\n",
    "import statsmodels.api as sm\n",
    "import scipy\n",
    "from collections import Counter\n",
    "import seaborn as sns\n",
    "import matplotlib.pyplot as plt\n",
    "import matplotlib.patches as mpatches"
   ]
  },
  {
   "attachments": {},
   "cell_type": "markdown",
   "metadata": {},
   "source": [
    "###  Process demographic data"
   ]
  },
  {
   "attachments": {},
   "cell_type": "markdown",
   "metadata": {},
   "source": [
    "Utility Functions"
   ]
  },
  {
   "cell_type": "code",
   "execution_count": null,
   "metadata": {},
   "outputs": [],
   "source": [
    "\n",
    "def read_csv(file_name, delimiter = ',', chunksize = 10000, na_filter = False) :\n",
    "    for chunk in pd.read_csv(file_name, chunksize=chunksize, delimiter=delimiter, na_filter=na_filter):\n",
    "        yield chunk\n",
    "\n",
    "def createDate(str, fmt=\"%Y-%m-%d\"):\n",
    "    try:\n",
    "        return datetime.strptime(str, fmt)\n",
    "    except:\n",
    "        return None\n",
    "\n",
    "def num_to_range(x, thresholds):\n",
    "  if(math.isnan(x)):\n",
    "    return None\n",
    "  i=1\n",
    "  while i < len(thresholds):\n",
    "    if(int(x)<=thresholds[i]):\n",
    "        return f\"{thresholds[i-1]+1}-{thresholds[i]}\"\n",
    "    i += 1\n",
    "  return f\"{thresholds[i-1]}+\"\n",
    "\n",
    "def isPrevalent(exposure_date, index_date):\n",
    "  if exposure_date==\"0\" :\n",
    "    return 0\n",
    "  else:\n",
    "    exposure_date = pd.to_datetime(exposure_date)\n",
    "    if exposure_date > index_date:\n",
    "      return 0\n",
    "    else:\n",
    "       return 1\n",
    "\n",
    "def isPostIncident(exposure_date, index_date):\n",
    "  if exposure_date==\"0\" :\n",
    "    return 0\n",
    "  else:\n",
    "    exposure_date = pd.to_datetime(exposure_date)\n",
    "    if exposure_date > index_date:\n",
    "      return 1\n",
    "    else:\n",
    "       return 0\n"
   ]
  },
  {
   "attachments": {},
   "cell_type": "markdown",
   "metadata": {},
   "source": [
    "Set input and output directories"
   ]
  },
  {
   "cell_type": "code",
   "execution_count": null,
   "metadata": {},
   "outputs": [],
   "source": [
    "pheno_path = \"/genesandhealth/red/AshithaJoby/custom_phenotypes/\"\n",
    "case_path = \"/genesandhealth/red/AshithaJoby/Cases/\"\n",
    "out_path = \"/genesandhealth/red/AshithaJoby/results/comorbidity/\"\n",
    "demo_path = \"/genesandhealth/red/AshithaJoby/results/07052024/cohort_demo.csv\""
   ]
  },
  {
   "attachments": {},
   "cell_type": "markdown",
   "metadata": {},
   "source": [
    "#### Build case and control groups\n",
    "1. Derive the core cancer cohort with patients having at least one primary cancer diagnosis. Based on the speicific cancer of interest in case-control analysis, case age at diagnosis date will be assigned as Index age.\n",
    "2. Exclude the core cancer cohort from the overall population to get core control cohort. Also exclude patients with secondary malignancies. Age at recuitment to G&H will be considered as Index age.\n",
    "3. Exclude patients from both case and control groups with Index age < 18.\n",
    "\n",
    "Choose one of the two cancer phenotype groups and follow rest of the pipeline"
   ]
  },
  {
   "cell_type": "code",
   "execution_count": null,
   "metadata": {},
   "outputs": [],
   "source": [
    "# Read cohort demographics file\n",
    "#df_cohort = pd.read_csv(demo_path+\"cohort_demo.csv\",header = 0)\n",
    "df_cohort = pd.read_csv(demo_path,header = 0)\n",
    "df_cohort[\"DOB\"] = df_cohort[\"DOB\"].apply(lambda x:createDate(x))\n",
    "population = df_cohort.shape[0]\n",
    "print(f\"Population size:{population}\")"
   ]
  },
  {
   "cell_type": "code",
   "execution_count": null,
   "metadata": {},
   "outputs": [],
   "source": [
    "df_cohort"
   ]
  },
  {
   "attachments": {},
   "cell_type": "markdown",
   "metadata": {},
   "source": [
    "1. GNH cancer phenotypes"
   ]
  },
  {
   "cell_type": "code",
   "execution_count": null,
   "metadata": {},
   "outputs": [],
   "source": [
    "mode = 'GNH'\n",
    "cancer_dict = { 'Oro-pharyngeal': 'Oro-pharyngeal','Other_Skin_and_subcutaneous_tissue' : 'Skin (other)', 'biliary_tract': 'Biliary tract', 'bladder' : 'Bladder', \n",
    "              'bone_and_articular_cartilage' : 'Bone','brain_other_CNS_and_intracranial': 'CNS', 'breast' : 'Breast', 'cervical' : 'Cervical',\n",
    "              'pancreatic': 'Pancreatic', 'prostate' : 'Prostate','colorectal_and_anus' : 'Colorectal', 'kidney_and_ureter' : 'Kidney', 'liver' : 'Liver',\n",
    "              'stomach' : 'Stomach', 'testicular' : 'Testicular', 'thyroid' : 'Thyroid', 'uterine' : 'Uterine', 'ovarian': 'Ovarian',\n",
    "              'lung_and_trachea' : 'Lung', 'malignant_melanoma' : 'Melanoma', 'mesothelioma' : 'Mesothelioma','oesophageal' : 'Oesophageal', \n",
    "              'Hodgkin_Lymphoma':'Hodgkin Lymphoma','Leukaemia':'Leukaemia','Multiple_myeloma_and_malignant_plasma_cell_neoplasms':'Myeloma',\n",
    "              'Non-Hodgkin_Lymphoma':'Non-Hodgkin Lymphoma','Other_GNH' : 'Other' \n",
    "              }\n",
    "# Other_GNH cases are manually formatted from GNH curated phenotype case directory. \n",
    "cancer_group = cancer_dict.keys()\n",
    "pheno_list = os.listdir(pheno_path)\n",
    "case_list = os.listdir(case_path)\n",
    "cancer_cohort = pd.DataFrame()\n",
    "for cancer_ph in cancer_group:\n",
    "  filename = 'Primary_Malignancy_'+cancer_ph+'.Cases.csv'\n",
    "  cancer = pd.read_csv(case_path+filename, na_filter=False)\n",
    "  cancer.rename(columns={'nhs_number': 'PseudoNHSnumber', 'date': 'DiagDt', 'code':'Code'}, inplace=True)\n",
    "  if cancer_ph == 'prostate':\n",
    "    cancer_demo = cancer.merge(df_cohort, how='left',  on='PseudoNHSnumber')\n",
    "    cancer_demo = cancer_demo[cancer_demo[\"Gender\"]==\"male\"]\n",
    "    cancer = cancer_demo.loc[:,[\"PseudoNHSnumber\",\"DiagDt\",\"Code\"]]\n",
    "    cancer.to_csv(case_path+\"Primary_Malignancy_\"+cancer_ph+\".Cases.csv\", index=False)\n",
    "  if cancer_ph == 'breast':\n",
    "    cancer_demo = cancer.merge(df_cohort, how='left',  on='PseudoNHSnumber')\n",
    "    cancer_demo = cancer_demo[cancer_demo[\"Gender\"]==\"female\"]\n",
    "    cancer = cancer_demo.loc[:,[\"PseudoNHSnumber\",\"DiagDt\",\"Code\"]]\n",
    "    cancer.to_csv(case_path+\"Primary_Malignancy_\"+cancer_ph+\".Cases.csv\", index=False)\n",
    "  if cancer_ph == 'testicular':\n",
    "    cancer_demo = cancer.merge(df_cohort, how='left',  on='PseudoNHSnumber')\n",
    "    cancer_demo = cancer_demo[cancer_demo[\"Gender\"]==\"male\"]\n",
    "    cancer = cancer_demo.loc[:,[\"PseudoNHSnumber\",\"DiagDt\",\"Code\"]]\n",
    "    cancer.to_csv(case_path+\"Primary_Malignancy_\"+cancer_ph+\".Cases.csv\", index=False)\n",
    "  if cancer_ph == 'cervical':\n",
    "    cancer_demo = cancer.merge(df_cohort, how='left',  on='PseudoNHSnumber')\n",
    "    cancer_demo = cancer_demo[cancer_demo[\"Gender\"]==\"female\"]\n",
    "    cancer = cancer_demo.loc[:,[\"PseudoNHSnumber\",\"DiagDt\",\"Code\"]]\n",
    "    cancer.to_csv(case_path+\"Primary_Malignancy_\"+cancer_ph+\".Cases.csv\", index=False)\n",
    "  if cancer_ph == 'uterine':\n",
    "    cancer_demo = cancer.merge(df_cohort, how='left',  on='PseudoNHSnumber')\n",
    "    cancer_demo = cancer_demo[cancer_demo[\"Gender\"]==\"female\"]\n",
    "    cancer = cancer_demo.loc[:,[\"PseudoNHSnumber\",\"DiagDt\",\"Code\"]]\n",
    "    cancer.to_csv(case_path+\"Primary_Malignancy_\"+cancer_ph+\".Cases.csv\", index=False)\n",
    "  if cancer_ph == 'ovarian':\n",
    "    cancer_demo = cancer.merge(df_cohort, how='left',  on='PseudoNHSnumber')\n",
    "    cancer_demo = cancer_demo[cancer_demo[\"Gender\"]==\"female\"]\n",
    "    cancer = cancer_demo.loc[:,[\"PseudoNHSnumber\",\"DiagDt\",\"Code\"]]\n",
    "    cancer.to_csv(case_path+\"Primary_Malignancy_\"+cancer_ph+\".Cases.csv\", index=False)\n",
    "  cancer.columns = [\"PseudoNHSnumber\",\"date\",\"code\"]\n",
    "  cancer[\"cancer\"] = cancer_dict[cancer_ph]\n",
    "  cancer[\"date\"] = cancer[\"date\"].apply(lambda x:createDate(x))\n",
    "  cancer_cohort = pd.concat([cancer_cohort,cancer], ignore_index=True)"
   ]
  },
  {
   "cell_type": "code",
   "execution_count": null,
   "metadata": {},
   "outputs": [],
   "source": [
    "cancer_cohort"
   ]
  },
  {
   "cell_type": "code",
   "execution_count": null,
   "metadata": {},
   "outputs": [],
   "source": [
    "# Print basic statistics\n",
    "print(cancer_cohort.shape)\n",
    "print(cancer_cohort.PseudoNHSnumber.nunique())\n",
    "print(cancer_cohort.cancer.value_counts())"
   ]
  },
  {
   "attachments": {},
   "cell_type": "markdown",
   "metadata": {},
   "source": [
    "Build analysis cohort"
   ]
  },
  {
   "cell_type": "code",
   "execution_count": null,
   "metadata": {},
   "outputs": [],
   "source": [
    "# Identify core case and control cohort\n",
    "idx1 = df_cohort.set_index(['PseudoNHSnumber']).index\n",
    "idx2 = cancer_cohort.set_index(['PseudoNHSnumber']).index\n",
    "case_cohort = df_cohort[idx1.isin(idx2)]\n",
    "control_cohort = df_cohort[~idx1.isin(idx2)]\n",
    "\n",
    "# Exclude controls with age < 18\n",
    "control_cohort = control_cohort[control_cohort[\"Age_at_recruitment\"]>=18]\n",
    "# Exclude controls with seocndary cancer, i.e., metastasis or recurrence\n",
    "filename = 'Secondary_Malignancy_and_metastasis.Cases.csv'\n",
    "cancer = pd.read_csv(case_path+filename, na_filter=False)\n",
    "cancer.columns = [\"PseudoNHSnumber\",\"date\",\"code\"]\n",
    "idx3 = control_cohort.set_index(['PseudoNHSnumber']).index\n",
    "idx4 = cancer.set_index(['PseudoNHSnumber']).index\n",
    "control_cohort = control_cohort[~idx3.isin(idx4)]\n",
    "\n",
    "\n",
    "case_cohort[\"Group\"] = \"Case\"\n",
    "control_cohort[\"Group\"] = \"Control\"\n",
    "analysis_cohort = pd.concat([case_cohort,control_cohort])\n",
    "\n",
    "# Print stats\n",
    "print(f\"case cohort:{case_cohort.shape[0]}\")\n",
    "print(f\"control cohort:{control_cohort.shape[0]}\")\n",
    "print(f\"analysis cohort:{analysis_cohort.shape[0]}\")"
   ]
  },
  {
   "attachments": {},
   "cell_type": "markdown",
   "metadata": {},
   "source": [
    "Add phenotype incidence date to the analysis cohort"
   ]
  },
  {
   "cell_type": "code",
   "execution_count": null,
   "metadata": {},
   "outputs": [],
   "source": [
    "morbidity_list = []\n",
    "pheno_list = os.listdir(pheno_path)\n",
    "for pheno in pheno_list:\n",
    "  if re.search(\"Primary_(M|m)alignancy|GNH|MGH|PRIMED|PADGEN|Secondary_(M|m)alignancy|Lymphoma|myeloma|metastasis|carcinoma|Leukaemia\",pheno):\n",
    "    continue\n",
    "  filename = pheno+'_summary_report.csv'\n",
    "  morbid = pd.read_csv(pheno_path+pheno+'/'+filename, na_filter=False)\n",
    "  morbid = morbid[[\"nhs_number\",\"date\"]]\n",
    "  morbid.columns = [\"PseudoNHSnumber\",\"date\"]\n",
    "  analysis_cohort = analysis_cohort.merge(morbid, how='left', on='PseudoNHSnumber')\n",
    "  analysis_cohort['date'] = analysis_cohort['date'].fillna(0)\n",
    "  analysis_cohort = analysis_cohort.rename(columns={'date': pheno})\n",
    "  morbidity_list.append(pheno)\n",
    "\n",
    "\n",
    "for cancer_ph in cancer_group:\n",
    "  filename = 'Primary_Malignancy_'+cancer_ph+'.Cases.csv'\n",
    "  cancer = pd.read_csv(case_path+filename, na_filter=False)\n",
    "  cancer.rename(columns={'nhs_number': 'PseudoNHSnumber', 'date': 'DiagDt', 'code':'Code'}, inplace=True)\n",
    "  cancer = cancer[[\"PseudoNHSnumber\",\"DiagDt\"]]\n",
    "  cancer.columns = [\"PseudoNHSnumber\",\"date\"]\n",
    "  analysis_cohort = analysis_cohort.merge(cancer, how='left', on='PseudoNHSnumber')\n",
    "  analysis_cohort['date'] = analysis_cohort['date'].fillna(0)\n",
    "  analysis_cohort = analysis_cohort.rename(columns={'date': cancer_dict[cancer_ph]+'_Cancer'})"
   ]
  },
  {
   "cell_type": "code",
   "execution_count": null,
   "metadata": {},
   "outputs": [],
   "source": [
    "analysis_cohort.to_csv(out_path+mode+\"/analysis_cohort.csv\",index=False)"
   ]
  },
  {
   "cell_type": "code",
   "execution_count": null,
   "metadata": {},
   "outputs": [],
   "source": [
    "print(analysis_cohort.columns)"
   ]
  },
  {
   "cell_type": "code",
   "execution_count": null,
   "metadata": {},
   "outputs": [],
   "source": [
    "analysis_cohort"
   ]
  },
  {
   "attachments": {},
   "cell_type": "markdown",
   "metadata": {},
   "source": [
    "PROPENISTY SCORE MATCHING"
   ]
  },
  {
   "cell_type": "code",
   "execution_count": null,
   "metadata": {},
   "outputs": [],
   "source": [
    "cancer_list = list(cancer_dict.values())\n",
    "#columns = [\"PseudoNHSnumber\",\"Gender\",\"DOB\",\"Ethnicity\",\"DOR\",\"Group\"]\n",
    "df_analysis_demo = analysis_cohort.copy()\n",
    "\n",
    "df_analysis_demo[\"Group\"] = df_analysis_demo[\"Group\"].replace(['Case','Control'],[1,0])\n",
    "\n",
    "df_analysis_demo[\"Gender\"] = np.where(df_analysis_demo[\"Gender\"].isin(['male','female']), df_analysis_demo[\"Gender\"], 'Unknown')\n",
    "df_analysis_demo = df_analysis_demo[df_analysis_demo['Gender']!='Unknown']\n",
    "#dummies = pd.get_dummies(df_analysis_demo[\"Gender\"], dtype=int)\n",
    "#df_analysis_demo = pd.concat([df_analysis_demo, dummies], axis='columns')\n",
    "#df_analysis_demo = df_analysis_demo.drop(['Gender', 'Unknown'], axis='columns')\n",
    "\n",
    "# The smalled Indian group is merged with Other Asian group. Comment out the following two lines if want to keep Indians as a separate group.\n",
    "df_analysis_demo[\"Ethnicity\"] = np.where(df_analysis_demo[\"Ethnicity\"].isin(['Asian or Asian British - Bangladeshi','Asian or Asian British - Pakistani','Not known','Not stated']), df_analysis_demo[\"Ethnicity\"], 'Other')\n",
    "df_analysis_demo[\"Ethnicity\"] = df_analysis_demo[\"Ethnicity\"].replace(['Asian or Asian British - Bangladeshi','Asian or Asian British - Pakistani','Other','Not known','Not stated'],['Bangladeshi','Pakistani','Other','Unknown','Unknown'])\n",
    "df_analysis_demo = df_analysis_demo[df_analysis_demo['Ethnicity']!='Unknown']\n",
    "#dummies = pd.get_dummies(df_analysis_demo[\"Ethnicity\"], dtype=int)\n",
    "#df_analysis_demo = pd.concat([df_analysis_demo, dummies], axis='columns')\n",
    "#df_analysis_demo = df_analysis_demo.drop(['Ethnicity','Other', 'Unknown'], axis='columns')\n",
    "#df_analysis_demo = df_analysis_demo.drop(['Ethnicity', 'Unknown'], axis='columns')\n"
   ]
  },
  {
   "cell_type": "code",
   "execution_count": null,
   "metadata": {},
   "outputs": [],
   "source": [
    "df_analysis_demo"
   ]
  },
  {
   "cell_type": "code",
   "execution_count": null,
   "metadata": {},
   "outputs": [],
   "source": [
    "df_analysis = df_analysis_demo.copy()\n",
    "def compute_index_date(row):\n",
    "    if row['Group'] == 0:\n",
    "        return createDate(row['DOR'])\n",
    "    elif row['Group'] == 1:\n",
    "        dates = []\n",
    "        for c in cancer_list:\n",
    "            cancer = c + \"_Cancer\"\n",
    "            if row[cancer] != 0:\n",
    "                dates.append(createDate(row[cancer]))\n",
    "        if dates:\n",
    "            return min(dates)\n",
    "    return pd.NaT\n",
    "\n",
    "df_analysis['Index_date'] = df_analysis.apply(compute_index_date, axis=1)\n"
   ]
  },
  {
   "cell_type": "code",
   "execution_count": null,
   "metadata": {},
   "outputs": [],
   "source": [
    "df_analysis"
   ]
  },
  {
   "cell_type": "code",
   "execution_count": null,
   "metadata": {},
   "outputs": [],
   "source": [
    "# Convert columns to datetime\n",
    "df_analysis['DOB'] = pd.to_datetime(df_analysis['DOB'])\n",
    "df_analysis['Index_date'] = pd.to_datetime(df_analysis['Index_date'])\n",
    "\n",
    "# Check the converted dates\n",
    "#print(\"DOB and Index_date after conversion to datetime:\")\n",
    "#print(df_analysis[['DOB', 'Index_date']])\n",
    "\n",
    "# Function to calculate age with print statements for debugging\n",
    "def calculate_age(row):\n",
    "    #print(f\"Row: {row}\")\n",
    "    if pd.isnull(row['Index_date']):\n",
    "        #print(\"Index_date is null, returning None\")\n",
    "        return None\n",
    "    #print(f\"Calculating age difference between {row['Index_date']} and {row['DOB']}\")\n",
    "    age = relativedelta.relativedelta(row['Index_date'], row['DOB']).years\n",
    "    #print(f\"Calculated age: {age}\")\n",
    "    return age\n",
    "\n",
    "# Apply the function\n",
    "df_analysis['Index_age'] = df_analysis.apply(calculate_age, axis=1)\n",
    "\n"
   ]
  },
  {
   "cell_type": "code",
   "execution_count": null,
   "metadata": {},
   "outputs": [],
   "source": [
    "df_analysis[\"Index_age_group\"] = pd.cut(df_analysis[\"Index_age\"],bins=[0,40,50,60,70,80,120],labels=[0,1,2,3,4,5],include_lowest = True)\n",
    "   "
   ]
  },
  {
   "cell_type": "code",
   "execution_count": null,
   "metadata": {},
   "outputs": [],
   "source": [
    "df_analysis"
   ]
  },
  {
   "cell_type": "code",
   "execution_count": null,
   "metadata": {},
   "outputs": [],
   "source": [
    "columns =[\"PseudoNHSnumber\",\"Group\",\"Gender\",\"Ethnicity\",\"Index_age\"]\n",
    "for cancer_ph in cancer_group:\n",
    "    columns.append(cancer_dict[cancer_ph]+'_Cancer')"
   ]
  },
  {
   "cell_type": "code",
   "execution_count": null,
   "metadata": {},
   "outputs": [],
   "source": [
    "columns"
   ]
  },
  {
   "cell_type": "code",
   "execution_count": null,
   "metadata": {},
   "outputs": [],
   "source": [
    "before_matching = df_analysis.loc[:,columns]"
   ]
  },
  {
   "cell_type": "code",
   "execution_count": null,
   "metadata": {},
   "outputs": [],
   "source": [
    "before_matching"
   ]
  },
  {
   "cell_type": "code",
   "execution_count": null,
   "metadata": {},
   "outputs": [],
   "source": [
    "matching_path = \"/genesandhealth/red/AshithaJoby/results/Matched_data_files/GNH\"\n",
    "before_matching.to_csv(matching_path+\"/before_matching.csv\",index=False)"
   ]
  },
  {
   "cell_type": "code",
   "execution_count": null,
   "metadata": {},
   "outputs": [],
   "source": [
    "df_analysis_main =df_analysis.copy()"
   ]
  },
  {
   "attachments": {},
   "cell_type": "markdown",
   "metadata": {},
   "source": [
    "AFTER PROPENSITY SCORE MATCHING IN R"
   ]
  },
  {
   "attachments": {},
   "cell_type": "markdown",
   "metadata": {},
   "source": [
    "#### Cancer-Morbidity pairwise association study \n",
    "\n",
    "Transform predictor variables from categorical to numeric as appropriate\n",
    "\n",
    "Run logistic regression: include gender, age group, and ethnic group as covariates\n",
    "\n",
    "Accumulate odds ratio, confidence interval, p-value"
   ]
  },
  {
   "cell_type": "code",
   "execution_count": null,
   "metadata": {},
   "outputs": [],
   "source": [
    "cancer_set = ['Oro.pharyngeal_Cancer',\n",
    "                 'Skin..other._Cancer',\n",
    "                 'Biliary.tract_Cancer',\n",
    "                 'Bladder_Cancer',\n",
    "                 'Bone_Cancer',\n",
    "                 'CNS_Cancer',\n",
    "                 'Breast_Cancer',\n",
    "                 'Cervical_Cancer',\n",
    "                 'Pancreatic_Cancer',\n",
    "                 'Prostate_Cancer',\n",
    "                 'Colorectal_Cancer',\n",
    "                 'Kidney_Cancer',\n",
    "                 'Liver_Cancer',\n",
    "                 'Stomach_Cancer',\n",
    "                 'Testicular_Cancer',\n",
    "                 'Thyroid_Cancer',\n",
    "                 'Uterine_Cancer',\n",
    "                 'Ovarian_Cancer',\n",
    "                 'Lung_Cancer',\n",
    "                 'Melanoma_Cancer',\n",
    "                 'Mesothelioma_Cancer',\n",
    "                 'Oesophageal_Cancer',\n",
    "                 'Hodgkin.Lymphoma_Cancer',\n",
    "                 'Leukaemia_Cancer',\n",
    "                 'Myeloma_Cancer',\n",
    "                 'Non.Hodgkin.Lymphoma_Cancer',\n",
    "                 'Other_Cancer']"
   ]
  },
  {
   "cell_type": "code",
   "execution_count": null,
   "metadata": {},
   "outputs": [],
   "source": [
    "gender_specific_cancers=[\"Breast_Cancer\",\n",
    "                           'Cervical_Cancer',\n",
    "                           'Prostate_Cancer',\n",
    "                           'Testicular_Cancer',\n",
    "                           'Uterine_Cancer',\n",
    "                           'Ovarian_Cancer']"
   ]
  },
  {
   "cell_type": "code",
   "execution_count": null,
   "metadata": {},
   "outputs": [],
   "source": [
    "\n",
    "morbidity_list = ['Dermatitis_atopc_contact_other_unspecified', 'Iron_deficiency_with_and_without_anaemia', 'Anxiety_and_phobia',\n",
    "                   'Unspecified_or_Rare_Diabetes', 'Migraine', 'Urinary_Incontinence', 'Allergic_and_chronic_rhinitis', \n",
    "                   'Enthesopathies__synovial_disorders', 'Sjogrens_disease', 'Asthma', 'Obesity', 'Type_2_Diabetes', \n",
    "                   'Hypertension', 'Gastritis_and_duodenitis', 'Other_psychoactive_substance_misuse', 'Coronary_heart_disease',\n",
    "                    'Cervical_dysplasia', 'Somatoform_and_dissociative_disorders', 'Erectile_dysfunction', 'Thyroid_disease',\n",
    "                    'Chronic_fatigue', 'Chronic_sinusitis', 'Hyperplasia_of_prostate', 'Neuromuscular_dysfunction_of_bladder',\n",
    "                    'Menorrhagia_and_polymenorrhoea', 'Chronic_Kidney_Disease', 'Gastro-oesophageal_reflux_disease', \n",
    "                    'Portal_hypertension_and_oesophageal_varices', 'Other_anaemias', 'Diabetic_eye_disease', \n",
    "                    'Liver_fibrosis_sclerosis_and_cirrhosis', 'Constipation', 'Depression', 'Osteoarthritis_excl_spine']"
   ]
  },
  {
   "cell_type": "code",
   "execution_count": null,
   "metadata": {},
   "outputs": [],
   "source": [
    "df_result = pd.DataFrame(columns=[\"Cancer\",\"Morbidity\",\"OR\",\"Lower_CI\",\"Upper_CI\",\"pvalue\"])\n",
    "df_case_control = pd.DataFrame()\n",
    "\n",
    "for cancer_ph in cancer_set:\n",
    "  filename = \"/genesandhealth/red/AshithaJoby/results/Matched_data_files/\"+cancer_ph+\".csv\"\n",
    "  matched_data = pd.read_csv(filename, na_filter=False)\n",
    "  print(f\"Cancer: {cancer_ph}\")\n",
    "  print(f\"Case Group size:{len(matched_data[matched_data['Group']==1])}\")\n",
    "  print(f\"Control Group size:{len(matched_data[matched_data['Group']==0])}\")\n",
    "  row = [{\"Cancer\":cancer_ph,\"Case_Group_Size\":len(matched_data[matched_data['Group']==1]), \"Control_Group_Size\":len(matched_data[matched_data['Group']==0])}] \n",
    "  df_case_control = pd.concat([df_case_control,pd.DataFrame(row)], ignore_index=True)\n",
    "\n",
    "  if cancer_ph in gender_specific_cancers:\n",
    "     columns = [\"PseudoNHSnumber\",\"Group\",\"Ethnicity\",\"Index_age\"]\n",
    "  else:\n",
    "     columns = [\"PseudoNHSnumber\",\"Group\",\"Gender\",\"Ethnicity\",\"Index_age\"]\n",
    "  matched_data_demo = matched_data.loc[:,columns]\n",
    "  idx1 = df_analysis_main.set_index(['PseudoNHSnumber']).index\n",
    "  idx2 = matched_data_demo.set_index(['PseudoNHSnumber']).index\n",
    "  analysis_cohort = df_analysis_main[idx1.isin(idx2)].reset_index(drop=True)\n",
    "  # Factorize the Gender column\n",
    "  if cancer_ph not in gender_specific_cancers:\n",
    "     matched_data_demo['Gender_Codes'], gender_categories = pd.factorize(matched_data_demo['Gender'])\n",
    "\n",
    "  # Factorize the Ethnicity column\n",
    "  matched_data_demo['Ethnicity_Codes'], ethnicity_categories = pd.factorize(matched_data_demo['Ethnicity'])\n",
    "  if cancer_ph in gender_specific_cancers:\n",
    "     matched_data_analysis = matched_data_demo.loc[:,[\"PseudoNHSnumber\",\"Group\",\"Ethnicity_Codes\",\"Index_age\"]]\n",
    "  else:\n",
    "      matched_data_analysis = matched_data_demo.loc[:,[\"PseudoNHSnumber\",\"Group\",\"Gender_Codes\",\"Ethnicity_Codes\",\"Index_age\"]]\n",
    "\n",
    "  for morbidity in morbidity_list:\n",
    "    print(morbidity+\":\"+cancer_ph)\n",
    "    df_analysis = pd.merge(matched_data_analysis, analysis_cohort[[\"PseudoNHSnumber\",morbidity,\"Index_date\"]], on='PseudoNHSnumber',how='left')\n",
    "\n",
    "    df_analysis[[morbidity]] = df_analysis[[morbidity]].astype(str)\n",
    "    #mask = df_analysis[ (df_analysis[\"Group\"]==1) & (df_analysis[cancer]==\"0\") ].index\n",
    "    #df_analysis = df_analysis.drop(mask,axis='index')\n",
    "    #df_analysis[\"morbidity_prevalent\"] = df_analysis.apply(lambda x: isPrevalent(x[morbidity],x[\"Index_date\"]), axis=1)\n",
    "    df_analysis[\"morbidity_prevalent\"] = df_analysis.apply(lambda x: isPostIncident(x[morbidity],x[\"Index_date\"]), axis=1)\n",
    "    \n",
    "\n",
    "    df_analysis = df_analysis.drop(labels=[\"PseudoNHSnumber\",morbidity,\"Index_date\"],axis=1)\n",
    "    df_analysis=df_analysis.reset_index(drop=True)\n",
    "    c_tab = pd.crosstab(df_analysis[\"Group\"],df_analysis[\"morbidity_prevalent\"])\n",
    "    if (c_tab<5).values.any():\n",
    "            continue\n",
    "\n",
    "    #outcome = \"Group\"\n",
    "    #predictors = list(set(df_analysis.columns).difference({outcome}))\n",
    "    #predictor_str = \"+\".join(predictors)\n",
    "    #formula = outcome+\"~\"+predictor_str\n",
    "   \n",
    "    outcome = \"Group\"\n",
    "    if cancer_ph in gender_specific_cancers:\n",
    "       adjustors = [\"C(Ethnicity_Codes)\", \"Index_age\"]\n",
    "    else:\n",
    "       adjustors = [\"C(Gender_Codes)\", \"C(Ethnicity_Codes)\", \"Index_age\"]\n",
    "    predictor = \"morbidity_prevalent\"\n",
    "    adjustor_str = \"+\".join(adjustors)\n",
    "    formula = outcome+\"~\"+adjustor_str+\"+\"+predictor\n",
    "\n",
    "    try:\n",
    "      log_reg = smf.logit(formula, data=df_analysis).fit()\n",
    "      odds_ratios = pd.DataFrame(\n",
    "                {\n",
    "                    \"OR\": log_reg.params,\n",
    "                    \"Lower_CI\": log_reg.conf_int()[0],\n",
    "                    \"Upper_CI\": log_reg.conf_int()[1]\n",
    "                }\n",
    "            )\n",
    "      odds_ratios = np.exp(odds_ratios)\n",
    "      odds_ratios[\"pvalue\"] = round(log_reg.pvalues,2)\n",
    "      pd.options.display.float_format = '{:.2f}'.format\n",
    "      row = odds_ratios.loc[\"morbidity_prevalent\"]\n",
    "      stat = [{\"Cancer\":cancer_ph,\"Morbidity\":morbidity, \"OR\":row.OR,\"Lower_CI\":row.Lower_CI,\"Upper_CI\":row.Upper_CI,\"pvalue\":row.pvalue }]\n",
    "      df_result = pd.concat([df_result,pd.DataFrame(stat)], ignore_index=True)\n",
    "    except Exception as e:\n",
    "        print(f\"An error occurred: {e}\")\n",
    "\n",
    "\n",
    "  \n",
    "\n",
    "  \n",
    "  "
   ]
  },
  {
   "cell_type": "code",
   "execution_count": null,
   "metadata": {},
   "outputs": [],
   "source": [
    "df_case_control\n",
    "df_case_control.to_csv(out_path+mode+\"/case_control_matched.csv\",index=False)"
   ]
  },
  {
   "cell_type": "code",
   "execution_count": null,
   "metadata": {},
   "outputs": [],
   "source": [
    "#df_result.sort_values(by=[\"pvalue\",\"OR\"], ascending=[True,False]).to_csv(out_path+mode+\"/\"+\"cancer_prediag_morbidity_OR.csv\", index=False)\n",
    "\n",
    "df_result.sort_values(by=[\"pvalue\",\"OR\"], ascending=[True,False]).to_csv(out_path+mode+\"/\"+\"cancer_postdiag_morbidity_OR.csv\", index=False)\n",
    "\n"
   ]
  },
  {
   "attachments": {},
   "cell_type": "markdown",
   "metadata": {},
   "source": [
    "Heatmap for adjusted odds ratios"
   ]
  },
  {
   "cell_type": "code",
   "execution_count": null,
   "metadata": {},
   "outputs": [],
   "source": [
    "df_result = pd.read_csv(out_path+mode+\"/\"+\"cancer_prediag_morbidity_OR.csv\", header=0)\n",
    "df_result = df_result[(df_result[\"pvalue\"]<=0.05)&(df_result[\"Cancer\"]!=\"Other_Cancer\")]\n",
    "#df_result = df_result[df_result[\"Cancer\"]!=\"Other_Cancer\"]\n",
    "df_result.to_csv(out_path+mode+\"/adjusted_OR_prediag_significant_table.csv\",index=False)\n",
    "#df_result.to_csv(out_path+mode+\"/adjusted_OR_prediag_full_table.csv\",index=False)"
   ]
  },
  {
   "cell_type": "code",
   "execution_count": null,
   "metadata": {},
   "outputs": [],
   "source": [
    "grouped_df = df_result.groupby('Cancer')\n",
    "# Use apply to reassemble the grouped data into a DataFrame\n",
    "df_result_export_prediag = grouped_df.apply(lambda x: x.reset_index(drop=True)).reset_index(drop=True)\n",
    "df_result_export_prediag.to_csv(out_path+mode+\"/adjusted_OR_prediag_significant_table_grouped.csv\",index=False)"
   ]
  },
  {
   "cell_type": "code",
   "execution_count": null,
   "metadata": {},
   "outputs": [],
   "source": [
    "df_result_export_prediag"
   ]
  },
  {
   "cell_type": "code",
   "execution_count": null,
   "metadata": {},
   "outputs": [],
   "source": [
    "df_result = pd.read_csv(out_path+mode+\"/\"+\"cancer_postdiag_morbidity_OR.csv\", header=0)\n",
    "df_result = df_result[(df_result[\"pvalue\"]<=0.05)&(df_result[\"Cancer\"]!=\"Other_Cancer\")]\n",
    "#df_result = df_result[df_result[\"Cancer\"]!=\"Other_Cancer\"]\n",
    "df_result.to_csv(out_path+mode+\"/adjusted_OR_postdiag_significant_table.csv\",index=False)\n",
    "#df_result.to_csv(out_path+mode+\"/adjusted_OR_postdiag_full_table.csv\",index=False)"
   ]
  },
  {
   "cell_type": "code",
   "execution_count": null,
   "metadata": {},
   "outputs": [],
   "source": [
    "grouped_df = df_result.groupby('Cancer')\n",
    "# Use apply to reassemble the grouped data into a DataFrame\n",
    "df_result_export_postdiag = grouped_df.apply(lambda x: x.reset_index(drop=True)).reset_index(drop=True)\n",
    "df_result_export_postdiag.to_csv(out_path+mode+\"/adjusted_OR_postdiag_significant_table_grouped.csv\",index=False)"
   ]
  },
  {
   "cell_type": "code",
   "execution_count": null,
   "metadata": {},
   "outputs": [],
   "source": [
    "df_result_export_postdiag"
   ]
  },
  {
   "cell_type": "code",
   "execution_count": null,
   "metadata": {},
   "outputs": [],
   "source": [
    "df_result = pd.read_csv(out_path+mode+\"/\"+\"cancer_postdiag_morbidity_OR.csv\", header=0)\n",
    "df_result = df_result[(df_result[\"pvalue\"]<=0.05)&(df_result[\"Cancer\"]!=\"Other_Cancer\")]\n",
    "df_result"
   ]
  },
  {
   "cell_type": "code",
   "execution_count": null,
   "metadata": {},
   "outputs": [],
   "source": [
    "df_result = pd.read_csv(out_path+mode+\"/\"+\"cancer_prediag_morbidity_OR.csv\", header=0)\n",
    "df_result = df_result[(df_result[\"pvalue\"]<=0.05)&(df_result[\"Cancer\"]!=\"Other_Cancer\")]\n",
    "df_result_pivot = df_result.pivot(index=\"Cancer\",columns=\"Morbidity\",values=\"OR\")\n",
    "df_result_pivot.fillna(1, inplace=True)\n",
    "sns.clustermap(df_result_pivot,center=1, cmap=\"BrBG\",cbar_pos=(0.02, 0.9, 0.02, 0.12))\n",
    "plt.savefig(out_path+mode+\"/\"+\"prediag_OR_heatmap.png\", bbox_inches='tight')"
   ]
  },
  {
   "cell_type": "code",
   "execution_count": null,
   "metadata": {},
   "outputs": [],
   "source": [
    "df_result = pd.read_csv(out_path+mode+\"/\"+\"cancer_postdiag_morbidity_OR.csv\", header=0)\n",
    "df_result = df_result[(df_result[\"pvalue\"]<=0.05)&(df_result[\"Cancer\"]!=\"Other_Cancer\")]\n",
    "df_result_pivot = df_result.pivot(index=\"Cancer\",columns=\"Morbidity\",values=\"OR\")\n",
    "df_result_pivot.fillna(1, inplace=True)\n",
    "sns.clustermap(df_result_pivot,center=1, cmap=\"BrBG\",cbar_pos=(0.02, 0.9, 0.02, 0.12))\n",
    "plt.savefig(out_path+mode+\"/\"+\"postdiag_OR_heatmap.png\", bbox_inches='tight')"
   ]
  }
 ],
 "metadata": {
  "kernelspec": {
   "display_name": "Python 3",
   "language": "python",
   "name": "python3"
  },
  "language_info": {
   "codemirror_mode": {
    "name": "ipython",
    "version": 3
   },
   "file_extension": ".py",
   "mimetype": "text/x-python",
   "name": "python",
   "nbconvert_exporter": "python",
   "pygments_lexer": "ipython3",
   "version": "3.9.2"
  },
  "orig_nbformat": 4,
  "vscode": {
   "interpreter": {
    "hash": "916dbcbb3f70747c44a77c7bcd40155683ae19c65e1c03b4aa3499c5328201f1"
   }
  }
 },
 "nbformat": 4,
 "nbformat_minor": 2
}
